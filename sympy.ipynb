{
 "cells": [
  {
   "cell_type": "markdown",
   "id": "6c7d5432-640c-4f27-8651-a57226d9b57a",
   "metadata": {},
   "source": [
    "# What\n",
    "대수학은 쉽게 설명하면 어떤 미지수에 변수를 \"대입\"하고 이를 계산하는 기술, 수학 문제를 보다 간단하게 만들고 표현된 방정식을 푸는 기술이라 할 수 있습니다. 이와 비슷하게 Sympy는 프로그램 내 변수에 미지수를 \"대입(대응?)\"하여 결과를 대수적으로 표현하고 이에 대한 근사값을 도출해주는 대수학 라이브러리라 할 수 있습니다.\n",
    "\n",
    "좀 더 확장된 개념으로 설명하면 대수학은 어떤 수의 체계(환, 군, 체)와 같은 수의 집합과 그들의 연산에 대한 규칙, 방법에 대한 학문입니다. 예시로 어떤 수 집합에 대해 어떤 연산을 거쳤을 때 그 결과 또한 그 수 집합에 포함된다면 그 수 체계는 연산에 대해 닫혀 있다고 표현합니다. \n",
    "\n",
    "Sympy는 기존 대수학에 의해 정립된 연산 체계와 결과에 근거하여 사용자가 작성한 수식 코드에 대해 기호, 대수적으로 결과를 완벽히 정확하게 표현합니다. 그리고 대수적으로 표현된 결과에 대해 수치적으로 근사값을 반환해주는 메소드도 제공합니다. \n",
    "# Why \n",
    "Sympy의 강력함은 모든 종류의 계산을 기호적으로 수행하는 능력입니다. 표현식을 단순화하고, 도함수, 적분, 극한, 방정식, 행렬 계산 등 많은 작업들을 수치적 표현의 코드가 아닌 단순한 기호 표현식으로 정확하게 인과관계를  나타낼 수 있습니다. \n",
    "\n",
    "이런 방식은 시뮬레이션 프로그램 구현 시 적용해야 하는 물리 법칙, 공식에 대해 수치적인 코드 구현 전 대수적으로 표현하여 올바른 결과가 도출되는지 확인할 수 있으며, 표현된 결과의 근사값을 도출하여 구현된 시뮬레이션 코드의 값과 비교하여 정확도를 측정할 수 있습니다.\n",
    "\n",
    "아니면 대수적 표현 코드 자체를 시뮬레이션 동작에 곧바로 적용해보거나 Sympy의 메소드들의 구현 알고리즘을 참고해볼 수 있습니다. \n",
    "# How\n",
    "## Symbolize : 기호 표현\n",
    "---\n",
    "\n",
    "Sympy의 가장 기본적인 조작은 기존 프로그램 코드의 변수에 수식의 변수를 대응하는 작업입니다. 더 정확히는 변수에 Sympy객체(수학식의 변수 역할)를 할당하여 다양한 연산을 및 수학적 풀이 결과를 도출합니다. \n",
    "\n",
    "***앞으로 Sympy 관련 표현 시 소스 코드 상의 \"변수\"와 수학식의 \"변수\"를 구분하기 위해 소스 코드 상의 \"변수\"를 \"객체\" 또는 \"인스턴스\"로 표기하겠습니다. Python은 기본적으로 모든 자료형이 클래스이며 변수도 객체입니다. 또한 Sympy에서도 객체를 활용하기 때문에 앞으로 \"객체\" 또는 \"인스턴스\"로 표현하는 것이 적절할 것입니다.***"
   ]
  },
  {
   "cell_type": "code",
   "execution_count": 8,
   "id": "46d11134-36cf-4447-a6b8-6e372da009ff",
   "metadata": {
    "tags": []
   },
   "outputs": [],
   "source": [
    "from sympy import *\n",
    "x, y, z = symbols(\"x y z\")"
   ]
  },
  {
   "cell_type": "markdown",
   "id": "27a6e104-7d07-4e30-977d-33e2816a0141",
   "metadata": {
    "tags": []
   },
   "source": [
    "## Substitution : 치환\n",
    "---\n",
    "subs method를 사용해 x라는 변수에 y를 대신 넣어 대수적 표현을 변환할 수 있습니다.\n",
    "\n"
   ]
  },
  {
   "cell_type": "code",
   "execution_count": 9,
   "id": "b2cd3755-3f56-4999-9046-641e9e224cf7",
   "metadata": {},
   "outputs": [
    {
     "data": {
      "text/latex": [
       "$\\displaystyle \\cos{\\left(y \\right)} + 1$"
      ],
      "text/plain": [
       "cos(y) + 1"
      ]
     },
     "execution_count": 9,
     "metadata": {},
     "output_type": "execute_result"
    }
   ],
   "source": [
    "expr = cos(x) + 1\n",
    "expr.subs(x, y)"
   ]
  },
  {
   "cell_type": "markdown",
   "id": "f69e502a-36a3-4252-88bc-33bcacd22ccc",
   "metadata": {
    "tags": []
   },
   "source": [
    "아래 대수적 표현식에서 y 대신 x로 치환해가면서 x^x^x^x... 와 같은 표현도 가능해집니다.\n"
   ]
  },
  {
   "cell_type": "code",
   "execution_count": 10,
   "id": "a60cd61e-0407-4313-9017-3490565b932b",
   "metadata": {},
   "outputs": [
    {
     "data": {
      "text/latex": [
       "$\\displaystyle x^{y}$"
      ],
      "text/plain": [
       "x**y"
      ]
     },
     "execution_count": 10,
     "metadata": {},
     "output_type": "execute_result"
    }
   ],
   "source": [
    "expr = x**y\n",
    "expr"
   ]
  },
  {
   "cell_type": "code",
   "execution_count": 11,
   "id": "e6204dac-b44b-476e-806e-b76f4a8f9653",
   "metadata": {},
   "outputs": [
    {
     "data": {
      "text/latex": [
       "$\\displaystyle x^{x^{y}}$"
      ],
      "text/plain": [
       "x**(x**y)"
      ]
     },
     "execution_count": 11,
     "metadata": {},
     "output_type": "execute_result"
    }
   ],
   "source": [
    "expr = expr.subs(y, x**y)\n",
    "expr"
   ]
  },
  {
   "cell_type": "code",
   "execution_count": 12,
   "id": "65ed6272-6709-4f09-a2f0-faa657e918e3",
   "metadata": {},
   "outputs": [
    {
     "data": {
      "text/latex": [
       "$\\displaystyle x^{x^{x^{x}}}$"
      ],
      "text/plain": [
       "x**(x**(x**x))"
      ]
     },
     "execution_count": 12,
     "metadata": {},
     "output_type": "execute_result"
    }
   ],
   "source": [
    "expr = expr.subs(y, x**x)\n",
    "expr"
   ]
  },
  {
   "cell_type": "markdown",
   "id": "99dd314b-bb8d-4044-8f0f-25fc1fc3d572",
   "metadata": {
    "tags": []
   },
   "source": [
    "삼각함수 배각 공식, 반각 공식에 대해서도 치환을 활용해 표현할 수 있습니다.\n"
   ]
  },
  {
   "cell_type": "code",
   "execution_count": 21,
   "id": "acf58f56-b9d3-4dd9-bd8f-d0fa699eb384",
   "metadata": {},
   "outputs": [
    {
     "data": {
      "text/latex": [
       "$\\displaystyle 2 \\sin{\\left(x \\right)} \\cos{\\left(x \\right)} + 2 \\cos^{2}{\\left(x \\right)} - 1$"
      ],
      "text/plain": [
       "2*sin(x)*cos(x) + 2*cos(x)**2 - 1"
      ]
     },
     "execution_count": 21,
     "metadata": {},
     "output_type": "execute_result"
    }
   ],
   "source": [
    "expr = sin(2*x) + cos(2*x)\n",
    "expand_trig(expr)"
   ]
  },
  {
   "cell_type": "code",
   "execution_count": 20,
   "id": "dd1e8850-53a5-490e-8c87-ef9f074b415e",
   "metadata": {},
   "outputs": [
    {
     "data": {
      "text/latex": [
       "$\\displaystyle 2 \\sin{\\left(x \\right)} \\cos{\\left(x \\right)} + \\cos{\\left(2 x \\right)}$"
      ],
      "text/plain": [
       "2*sin(x)*cos(x) + cos(2*x)"
      ]
     },
     "execution_count": 20,
     "metadata": {},
     "output_type": "execute_result"
    }
   ],
   "source": [
    "expr.subs(sin(2*x), 2*sin(x)*cos(x))"
   ]
  },
  {
   "cell_type": "markdown",
   "id": "29b45c6e-7270-4581-b2bf-f1a3807890e5",
   "metadata": {},
   "source": [
    "한가지 참고할 점은 Sympy object들은 대부분 immutable object입니다. 따라서, 객체가 생성된 이후 내부의 변수나 메소드가 변하지 않고, read only 메소드만을 제공하며, 복사에 대해 방어적, 보수적입니다.\n",
    "\n",
    "예를 들어  를 표현하는 객체 expr이 한번 생성되면 이는 불변 객체가 되며, subs 메소드를 활용해 x에 0을 치환(x에 0을 대입했다고 할 수 있음)후에도 expr은 를 유지합니다. 이 되는 것이 아닙니다. 에 대해서도 처음 Symbolize하여 \"x\"라는 객체에 를 할당했기 때문에 0으로 치환했다 하더라도 그 객체 자체는 변하지 않습니다."
   ]
  },
  {
   "cell_type": "code",
   "execution_count": 23,
   "id": "edf9232d-2464-488b-ad3a-d20f97c3a147",
   "metadata": {},
   "outputs": [
    {
     "data": {
      "text/latex": [
       "$\\displaystyle \\cos{\\left(x \\right)}$"
      ],
      "text/plain": [
       "cos(x)"
      ]
     },
     "execution_count": 23,
     "metadata": {},
     "output_type": "execute_result"
    }
   ],
   "source": [
    "expr = cos(x)\n",
    "expr.subs(x, 0)\n",
    "expr"
   ]
  },
  {
   "cell_type": "code",
   "execution_count": 24,
   "id": "dd85e086-3acf-405e-b402-72fb1967ab00",
   "metadata": {},
   "outputs": [
    {
     "data": {
      "text/latex": [
       "$\\displaystyle x$"
      ],
      "text/plain": [
       "x"
      ]
     },
     "execution_count": 24,
     "metadata": {},
     "output_type": "execute_result"
    }
   ],
   "source": [
    "x"
   ]
  },
  {
   "cell_type": "markdown",
   "id": "dd9b8804-deba-4dd4-af70-2d1c398de019",
   "metadata": {},
   "source": [
    "치환 시 python list comprehension을 사용하여 편리하게 일괄적으로 치환할 수 있습니다."
   ]
  },
  {
   "cell_type": "code",
   "execution_count": 15,
   "id": "d510654a-de2a-4e53-8e72-50f0c338f039",
   "metadata": {},
   "outputs": [
    {
     "data": {
      "text/latex": [
       "$\\displaystyle - 4 x^{3} - 2 x + y^{4} + 4 y^{2} + 3$"
      ],
      "text/plain": [
       "-4*x**3 - 2*x + y**4 + 4*y**2 + 3"
      ]
     },
     "execution_count": 15,
     "metadata": {},
     "output_type": "execute_result"
    }
   ],
   "source": [
    "expr = x**4 - 4*x**3 + 4*x**2 - 2*x + 3\n",
    "replacements = [(x**i, y**i) for i in range(5) if i % 2 == 0]\n",
    "expr.subs(replacements)"
   ]
  },
  {
   "cell_type": "markdown",
   "id": "fb6e5f13-978b-4465-8714-da32cb591893",
   "metadata": {},
   "source": [
    "가장 유용한 기능은 수식을 문자열로 표현하여 이를 Sympy 표현식으로 치환하는 것입니다."
   ]
  },
  {
   "cell_type": "code",
   "execution_count": 26,
   "id": "c605885e-5b35-4208-9f26-f90f8ad02e09",
   "metadata": {},
   "outputs": [
    {
     "data": {
      "text/latex": [
       "$\\displaystyle x^{2} + 3 x - \\frac{1}{2}$"
      ],
      "text/plain": [
       "x**2 + 3*x - 1/2"
      ]
     },
     "execution_count": 26,
     "metadata": {},
     "output_type": "execute_result"
    }
   ],
   "source": [
    "str_expr = \"x**2 + 3*x - 1/2\"\n",
    "expr = sympify(str_expr)\n",
    "expr"
   ]
  },
  {
   "cell_type": "markdown",
   "id": "25b758ac-2aa2-447c-9d3d-234c8530b4d3",
   "metadata": {
    "tags": []
   },
   "source": [
    "표현식에서 x에 2를 치환하여 위 표현식의 계산값을 바로 확인할 수 있습니다. "
   ]
  },
  {
   "cell_type": "code",
   "execution_count": 27,
   "id": "967f3919-fd02-410d-bc73-21f21ec88ed0",
   "metadata": {},
   "outputs": [
    {
     "data": {
      "text/latex": [
       "$\\displaystyle \\frac{19}{2}$"
      ],
      "text/plain": [
       "19/2"
      ]
     },
     "execution_count": 27,
     "metadata": {},
     "output_type": "execute_result"
    }
   ],
   "source": [
    "expr.subs(x, 2)"
   ]
  }
 ],
 "metadata": {
  "kernelspec": {
   "display_name": "Python 3 (ipykernel)",
   "language": "python",
   "name": "python3"
  },
  "language_info": {
   "codemirror_mode": {
    "name": "ipython",
    "version": 3
   },
   "file_extension": ".py",
   "mimetype": "text/x-python",
   "name": "python",
   "nbconvert_exporter": "python",
   "pygments_lexer": "ipython3",
   "version": "3.9.13"
  }
 },
 "nbformat": 4,
 "nbformat_minor": 5
}
