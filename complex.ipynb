{
 "cells": [
  {
   "cell_type": "markdown",
   "id": "4fd0289c-95a4-4748-a399-3b6e477d64ad",
   "metadata": {},
   "source": [
    "# 복소수 표현 Complex Number\n",
    "\n",
    "## 파이썬의 자료형은 Class\n",
    "파이썬은 최상위 클래스 'Object'가 있으며, 파이썬에서 구현되는 모든 클래스들은 **'Object' 클래스로부터 상속 받은 자식 클래스입니다.**\n",
    "파이썬에서 자료형도 이 최상위 클래스의 자식 클래스이기 때문에 자료형 별 메소드들이 별도로 구현되어 있습니다. \n",
    "C언어와 다르게 데이터 타입이 클래스이며, 코드 상에서 보는 실제 값들은 그 자료형의 **인스턴스**라고 할 수 있습니다. \n",
    "\n",
    "*ex) int 3, float 1.2 에서 3과 1.2는 class int, class float 의 인스턴스*\n",
    "\n",
    "## 자료형\n",
    "Python은 외부 라이브러리 없이 복소수 자료형 클래스가 기본적으로 내장되어 있습니다. \n",
    "허수부에 'j'를 추가하면 자동으로 complex형으로 자료형이 지정되며 complex class의 메소드를 이용하여 실수부, 허수부를 추출할 수 있고 켤레복소수 표현도 가능합니다."
   ]
  },
  {
   "cell_type": "code",
   "execution_count": 8,
   "id": "3e62dd84-bf43-4313-800f-e74a46c0e422",
   "metadata": {},
   "outputs": [
    {
     "name": "stdout",
     "output_type": "stream",
     "text": [
      "Value of complex_var: (2+3j)\n",
      "Data type of complex_var :  <class 'complex'>\n"
     ]
    }
   ],
   "source": [
    "complex_var = 2 + 3j\n",
    "\n",
    "print(\"Value of complex_var:\" , complex_var)\n",
    "print(\"Data type of complex_var : \" , type(complex_var))"
   ]
  },
  {
   "cell_type": "code",
   "execution_count": 5,
   "id": "fc75dcff-9f78-46d4-807d-93584c72c692",
   "metadata": {},
   "outputs": [
    {
     "name": "stdout",
     "output_type": "stream",
     "text": [
      "실수부: 2.0\n",
      "허수부: 3.0\n"
     ]
    }
   ],
   "source": [
    "print(\"실수부:\",complex_var.real)\n",
    "print(\"허수부:\",complex_var.imag)"
   ]
  },
  {
   "cell_type": "code",
   "execution_count": null,
   "id": "4f3659c8-f32a-420f-8332-ef756b09db4e",
   "metadata": {},
   "outputs": [
    {
     "name": "stdout",
     "output_type": "stream",
     "text": [
      "Conjugate: (2-3j)\n"
     ]
    }
   ],
   "source": [
    "print(\"Conjugate:\" , complex_var.conjugate())"
   ]
  }
 ],
 "metadata": {
  "kernelspec": {
   "display_name": "Python 3 (ipykernel)",
   "language": "python",
   "name": "python3"
  },
  "language_info": {
   "codemirror_mode": {
    "name": "ipython",
    "version": 3
   },
   "file_extension": ".py",
   "mimetype": "text/x-python",
   "name": "python",
   "nbconvert_exporter": "python",
   "pygments_lexer": "ipython3",
   "version": "3.9.13"
  }
 },
 "nbformat": 4,
 "nbformat_minor": 5
}
